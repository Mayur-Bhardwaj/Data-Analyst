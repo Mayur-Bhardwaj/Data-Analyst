{
 "cells": [
  {
   "cell_type": "markdown",
   "id": "c9dad32f-ee6c-44ee-8ac9-454d9ec48dc6",
   "metadata": {},
   "source": [
    "# Variable :- \n",
    "Variable is a name of memory, means the value is save in computer memory & memory have its own address & address have numeric term, instead of numeric term we give the name called Variable.\n"
   ]
  },
  {
   "cell_type": "code",
   "execution_count": null,
   "id": "e1d431ff-d8c8-4ead-b07c-cf8f85b54795",
   "metadata": {},
   "outputs": [],
   "source": [
    "\n",
    "\n",
    "a=10\n",
    "print(a);\n"
   ]
  },
  {
   "cell_type": "code",
   "execution_count": 5,
   "id": "b6024709-1e9c-4b4e-82b8-376a950c837e",
   "metadata": {},
   "outputs": [],
   "source": [
    "# Numeric \n",
    "# String\n",
    "# Float(Decimal)\n",
    "# Boolean (true, false)"
   ]
  },
  {
   "cell_type": "code",
   "execution_count": 4,
   "id": "ee257c38-9023-44ba-8533-9c19be4afbd1",
   "metadata": {},
   "outputs": [
    {
     "name": "stdout",
     "output_type": "stream",
     "text": [
      "This is Python\n"
     ]
    }
   ],
   "source": [
    "string=\"This is Python\";\n",
    "print(string);"
   ]
  },
  {
   "cell_type": "code",
   "execution_count": 1,
   "id": "7a3923d0-7fee-494f-b84f-f9ff7c67addc",
   "metadata": {},
   "outputs": [
    {
     "name": "stdout",
     "output_type": "stream",
     "text": [
      "3.5\n"
     ]
    }
   ],
   "source": [
    "#float\n",
    "flo =3.5\n",
    "print(flo);"
   ]
  },
  {
   "cell_type": "code",
   "execution_count": 3,
   "id": "e2b546d6-1b6d-4602-810d-7b16c542a032",
   "metadata": {},
   "outputs": [
    {
     "name": "stdout",
     "output_type": "stream",
     "text": [
      "True\n"
     ]
    }
   ],
   "source": [
    "#Boolean\n",
    "bool = True;\n",
    "print(bool);"
   ]
  },
  {
   "cell_type": "code",
   "execution_count": 4,
   "id": "61d73b5f-ddcd-4967-8510-4bf44521c79b",
   "metadata": {},
   "outputs": [
    {
     "name": "stdout",
     "output_type": "stream",
     "text": [
      "100\n",
      "1853923855696\n"
     ]
    }
   ],
   "source": [
    "var = 100\n",
    "print(var);\n",
    "print(id(var));"
   ]
  },
  {
   "cell_type": "markdown",
   "id": "ad5af120-f195-427f-8fe8-b66b8f4a5680",
   "metadata": {},
   "source": [
    "# Find the type of variable\n"
   ]
  },
  {
   "cell_type": "code",
   "execution_count": 8,
   "id": "7a6057fc-740a-4738-a0a1-881b1798b5cd",
   "metadata": {},
   "outputs": [
    {
     "data": {
      "text/plain": [
       "int"
      ]
     },
     "execution_count": 8,
     "metadata": {},
     "output_type": "execute_result"
    }
   ],
   "source": [
    "var = 23\n",
    "type(var)"
   ]
  },
  {
   "cell_type": "code",
   "execution_count": 12,
   "id": "b81050e8-cb03-414e-bc6a-aaf9cb942904",
   "metadata": {},
   "outputs": [
    {
     "data": {
      "text/plain": [
       "str"
      ]
     },
     "execution_count": 12,
     "metadata": {},
     "output_type": "execute_result"
    }
   ],
   "source": [
    "data = \"Ram\"\n",
    "type(data)"
   ]
  },
  {
   "cell_type": "code",
   "execution_count": 13,
   "id": "17d91946-1174-4171-9924-1ceb655ea1f2",
   "metadata": {},
   "outputs": [
    {
     "data": {
      "text/plain": [
       "str"
      ]
     },
     "execution_count": 13,
     "metadata": {},
     "output_type": "execute_result"
    }
   ],
   "source": [
    "data2 = 'Shyam'\n",
    "type(data2)"
   ]
  },
  {
   "cell_type": "code",
   "execution_count": 14,
   "id": "1dd09043-83e2-4ae0-bc32-430ba82ee9dc",
   "metadata": {},
   "outputs": [
    {
     "data": {
      "text/plain": [
       "float"
      ]
     },
     "execution_count": 14,
     "metadata": {},
     "output_type": "execute_result"
    }
   ],
   "source": [
    "type(flo)"
   ]
  },
  {
   "cell_type": "markdown",
   "id": "808704d8-88e1-4955-86d6-f8bf43c37d84",
   "metadata": {},
   "source": [
    "# Rules for python"
   ]
  },
  {
   "cell_type": "code",
   "execution_count": 16,
   "id": "e61e08c0-3b5b-43a5-8d5c-7c5a8357ebb8",
   "metadata": {},
   "outputs": [],
   "source": [
    "# 1. Python is case sensitive.\n",
    "# 2. Python is space sensitive."
   ]
  },
  {
   "cell_type": "markdown",
   "id": "0476cdca-58ce-452b-9bd7-ffa905efc474",
   "metadata": {},
   "source": [
    "# Rules to make variable in python"
   ]
  },
  {
   "cell_type": "code",
   "execution_count": 20,
   "id": "a62d5673-5ac7-4016-8652-bc5768af71b9",
   "metadata": {},
   "outputs": [],
   "source": [
    "# 1. Variable is case-sensitive. [a=10, A=10] # Both are different.\n",
    "# 2. Variable should start with alphabet or underscore.\n",
    "# 3. Number cannot be a variable.\n",
    "# 4. Variable also space-sensitive.\n"
   ]
  },
  {
   "cell_type": "code",
   "execution_count": 21,
   "id": "64ea94d8-2cb0-4c80-8309-c7530fedccda",
   "metadata": {},
   "outputs": [],
   "source": [
    "_d = 12\n"
   ]
  },
  {
   "cell_type": "code",
   "execution_count": 22,
   "id": "447bf78a-a37b-4d2c-ba2b-878487ece0bc",
   "metadata": {},
   "outputs": [
    {
     "data": {
      "text/plain": [
       "12"
      ]
     },
     "execution_count": 22,
     "metadata": {},
     "output_type": "execute_result"
    }
   ],
   "source": [
    "_d"
   ]
  },
  {
   "cell_type": "code",
   "execution_count": 24,
   "id": "a991087c-6db8-4785-b8e6-58bb2217c0ac",
   "metadata": {},
   "outputs": [
    {
     "data": {
      "text/plain": [
       "12"
      ]
     },
     "execution_count": 24,
     "metadata": {},
     "output_type": "execute_result"
    }
   ],
   "source": [
    "_as=12\n",
    "_as"
   ]
  },
  {
   "cell_type": "code",
   "execution_count": 27,
   "id": "95042e0f-5bab-422b-83dd-465efbbafa6f",
   "metadata": {},
   "outputs": [
    {
     "name": "stdout",
     "output_type": "stream",
     "text": [
      "34\n",
      "scsb\n"
     ]
    },
    {
     "data": {
      "text/plain": [
       "989"
      ]
     },
     "execution_count": 27,
     "metadata": {},
     "output_type": "execute_result"
    }
   ],
   "source": [
    "d=34\n",
    "e = 'scsb'\n",
    "m = 989\n",
    "print(d)\n",
    "print(e)\n",
    "m"
   ]
  },
  {
   "cell_type": "markdown",
   "id": "7958cc6a-ad9b-4a55-82ea-60c996755e60",
   "metadata": {},
   "source": [
    "# Token : \n",
    "\n"
   ]
  },
  {
   "cell_type": "code",
   "execution_count": 29,
   "id": "e5dac8cb-b4d0-4902-a32d-1d5e887aa881",
   "metadata": {},
   "outputs": [],
   "source": [
    "# Tokens are the smallest meaningful units in a Python program.\n",
    "# Any logical piece of code when broken down, every part of it is called token.\n",
    "# Smallest part to be executed.\n",
    "# Python execute code line by line."
   ]
  },
  {
   "cell_type": "markdown",
   "id": "28c0a290-7a2f-477d-a3e6-5b55397a6b89",
   "metadata": {},
   "source": [
    "# Types of Token:\n",
    "1. Keyword    2. Identifier      3. Literals    4. Operators."
   ]
  },
  {
   "cell_type": "code",
   "execution_count": 2,
   "id": "1a3daa02-7de4-4683-b76e-b57e35c05dac",
   "metadata": {},
   "outputs": [],
   "source": [
    "# Keywords"
   ]
  },
  {
   "cell_type": "code",
   "execution_count": null,
   "id": "4cb3a809-9657-49e3-aeac-f1538e66ad37",
   "metadata": {},
   "outputs": [],
   "source": []
  },
  {
   "cell_type": "code",
   "execution_count": null,
   "id": "8136acf1-1af2-4e2e-871f-c5f2fab4f1d2",
   "metadata": {},
   "outputs": [],
   "source": []
  }
 ],
 "metadata": {
  "kernelspec": {
   "display_name": "Python 3 (ipykernel)",
   "language": "python",
   "name": "python3"
  },
  "language_info": {
   "codemirror_mode": {
    "name": "ipython",
    "version": 3
   },
   "file_extension": ".py",
   "mimetype": "text/x-python",
   "name": "python",
   "nbconvert_exporter": "python",
   "pygments_lexer": "ipython3",
   "version": "3.10.4"
  }
 },
 "nbformat": 4,
 "nbformat_minor": 5
}
