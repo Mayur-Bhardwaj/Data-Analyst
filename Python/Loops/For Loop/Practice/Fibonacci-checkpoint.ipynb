{
 "cells": [
  {
   "cell_type": "markdown",
   "id": "7ff26ee0-4e02-4173-9969-1b9967ddaaa7",
   "metadata": {},
   "source": [
    "### Print Fibonacci Series."
   ]
  },
  {
   "cell_type": "markdown",
   "id": "17ea1cae-ef0b-4bb5-94e4-25b7c186b2a2",
   "metadata": {},
   "source": [
    "Ex:-  0,1,1,2,3,5,8,13,21,34,....."
   ]
  },
  {
   "cell_type": "code",
   "execution_count": 1,
   "id": "d40f38dd-b367-4ddf-837b-86af0a9867be",
   "metadata": {},
   "outputs": [
    {
     "name": "stdin",
     "output_type": "stream",
     "text": [
      "Please Enter the number of terms you want to print in Fibonacci Series:  10\n"
     ]
    },
    {
     "name": "stdout",
     "output_type": "stream",
     "text": [
      "0 1 1 2 3 5 8 13 21 34 "
     ]
    }
   ],
   "source": [
    "inp = int(input(\"Please Enter the number of terms you want to print in Fibonacci Series: \"))\n",
    "a=0\n",
    "b=1\n",
    "\n",
    "for i in range(inp):\n",
    "    print(a, end=\" \")\n",
    "    temp = a+b\n",
    "    a = b\n",
    "    b = temp\n",
    "    "
   ]
  },
  {
   "cell_type": "code",
   "execution_count": null,
   "id": "82060063-5bdb-4122-898e-ef51a68fe77a",
   "metadata": {},
   "outputs": [],
   "source": []
  }
 ],
 "metadata": {
  "kernelspec": {
   "display_name": "Python 3 (ipykernel)",
   "language": "python",
   "name": "python3"
  },
  "language_info": {
   "codemirror_mode": {
    "name": "ipython",
    "version": 3
   },
   "file_extension": ".py",
   "mimetype": "text/x-python",
   "name": "python",
   "nbconvert_exporter": "python",
   "pygments_lexer": "ipython3",
   "version": "3.10.4"
  }
 },
 "nbformat": 4,
 "nbformat_minor": 5
}
