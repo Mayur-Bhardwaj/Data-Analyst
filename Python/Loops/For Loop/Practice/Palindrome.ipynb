{
 "cells": [
  {
   "cell_type": "markdown",
   "id": "a475630e-607e-405d-ae3d-f0d75e0b8a6b",
   "metadata": {},
   "source": [
    "## Write a program to find all Palindrome numbers b/w 100 to 500 and also print their count."
   ]
  },
  {
   "cell_type": "markdown",
   "id": "36ba001f-0bd2-471f-88cf-93e9816dd33b",
   "metadata": {},
   "source": [
    "121, 131, 111, 1551, 12321"
   ]
  },
  {
   "cell_type": "code",
   "execution_count": 3,
   "id": "7d2495d1-6ee5-4263-8d82-30596f129743",
   "metadata": {},
   "outputs": [],
   "source": [
    "a=str(100)"
   ]
  },
  {
   "cell_type": "code",
   "execution_count": 4,
   "id": "9e7277de-66c3-4bac-b236-aaf77d738f40",
   "metadata": {},
   "outputs": [
    {
     "data": {
      "text/plain": [
       "'100'"
      ]
     },
     "execution_count": 4,
     "metadata": {},
     "output_type": "execute_result"
    }
   ],
   "source": [
    "a"
   ]
  },
  {
   "cell_type": "code",
   "execution_count": 5,
   "id": "a5f41930-0454-4842-aae5-25aff7d7a6cc",
   "metadata": {},
   "outputs": [
    {
     "data": {
      "text/plain": [
       "'001'"
      ]
     },
     "execution_count": 5,
     "metadata": {},
     "output_type": "execute_result"
    }
   ],
   "source": [
    "a[::-1]"
   ]
  },
  {
   "cell_type": "code",
   "execution_count": 6,
   "id": "95440c38-a924-4383-9c22-3ef69de1ad63",
   "metadata": {},
   "outputs": [],
   "source": [
    "b=\"kuch bhi\""
   ]
  },
  {
   "cell_type": "code",
   "execution_count": 7,
   "id": "5e59e539-7ceb-466e-bde5-8834261e040b",
   "metadata": {},
   "outputs": [
    {
     "data": {
      "text/plain": [
       "'ihb hcuk'"
      ]
     },
     "execution_count": 7,
     "metadata": {},
     "output_type": "execute_result"
    }
   ],
   "source": [
    "b[::-1]"
   ]
  },
  {
   "cell_type": "code",
   "execution_count": null,
   "id": "d743c547-b768-4fd0-9648-5f5c3b0161aa",
   "metadata": {},
   "outputs": [],
   "source": [
    "sum =0\n",
    "for i in range(101, 501):\n",
    "    a=str(i)  # i variable convert into string.\n",
    "    b=a[::-1] # reverse of \"a\"\n",
    "    if(a==b):\n",
    "        print(i, end=\" \")\n",
    "        sum = sum+i\n",
    "print()\n",
    "print(f\"Total Count is: \",)"
   ]
  }
 ],
 "metadata": {
  "kernelspec": {
   "display_name": "Python 3 (ipykernel)",
   "language": "python",
   "name": "python3"
  },
  "language_info": {
   "codemirror_mode": {
    "name": "ipython",
    "version": 3
   },
   "file_extension": ".py",
   "mimetype": "text/x-python",
   "name": "python",
   "nbconvert_exporter": "python",
   "pygments_lexer": "ipython3",
   "version": "3.10.4"
  }
 },
 "nbformat": 4,
 "nbformat_minor": 5
}
