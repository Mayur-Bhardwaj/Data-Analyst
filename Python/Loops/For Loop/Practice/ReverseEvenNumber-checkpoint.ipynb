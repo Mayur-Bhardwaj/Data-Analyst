{
 "cells": [
  {
   "cell_type": "markdown",
   "id": "5ff32cda-e890-4b01-95a3-f1749fe410f0",
   "metadata": {},
   "source": [
    "#### Print all the Even Number in reverse order from 50-0."
   ]
  },
  {
   "cell_type": "code",
   "execution_count": 4,
   "id": "8074fb77-5513-46fc-a8fc-fcbe0defa76f",
   "metadata": {},
   "outputs": [
    {
     "name": "stdin",
     "output_type": "stream",
     "text": [
      "Please Enter the term till which you want to print the odd number:  50\n"
     ]
    },
    {
     "name": "stdout",
     "output_type": "stream",
     "text": [
      "50\n",
      "48\n",
      "46\n",
      "44\n",
      "42\n",
      "40\n",
      "38\n",
      "36\n",
      "34\n",
      "32\n",
      "30\n",
      "28\n",
      "26\n",
      "24\n",
      "22\n",
      "20\n",
      "18\n",
      "16\n",
      "14\n",
      "12\n",
      "10\n",
      "8\n",
      "6\n",
      "4\n",
      "2\n",
      "0\n"
     ]
    }
   ],
   "source": [
    "user_input = int(input(\"Please Enter the term till which you want to print the odd number: \"))\n",
    "\n",
    "for i in range(50, -1, -2):\n",
    "    print(i)"
   ]
  },
  {
   "cell_type": "code",
   "execution_count": null,
   "id": "589ce6cf-da93-4b13-9fc6-3cb89dfc99b9",
   "metadata": {},
   "outputs": [],
   "source": []
  }
 ],
 "metadata": {
  "kernelspec": {
   "display_name": "Python 3 (ipykernel)",
   "language": "python",
   "name": "python3"
  },
  "language_info": {
   "codemirror_mode": {
    "name": "ipython",
    "version": 3
   },
   "file_extension": ".py",
   "mimetype": "text/x-python",
   "name": "python",
   "nbconvert_exporter": "python",
   "pygments_lexer": "ipython3",
   "version": "3.10.4"
  }
 },
 "nbformat": 4,
 "nbformat_minor": 5
}
