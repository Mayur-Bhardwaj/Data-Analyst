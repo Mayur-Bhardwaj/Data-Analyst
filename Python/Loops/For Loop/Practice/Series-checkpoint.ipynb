{
 "cells": [
  {
   "cell_type": "markdown",
   "id": "7e5b9a0e-fee9-4231-b66c-5078e9d93df9",
   "metadata": {},
   "source": [
    "Print a Series like 7,-11,15,-19,.... Till 10th term."
   ]
  },
  {
   "cell_type": "markdown",
   "id": "77f2682a-2aeb-4f5d-afce-b8667d2f131c",
   "metadata": {},
   "source": [
    "Solution: If the number is place at even index then multiply by (-1) else by (+1)."
   ]
  },
  {
   "cell_type": "code",
   "execution_count": 4,
   "id": "58c87e73-b313-4f8a-9535-4a43f2419e1e",
   "metadata": {},
   "outputs": [
    {
     "name": "stdout",
     "output_type": "stream",
     "text": [
      "7\n",
      "-11\n",
      "15\n",
      "-19\n",
      "23\n",
      "-27\n",
      "31\n",
      "-35\n",
      "39\n",
      "-43\n"
     ]
    }
   ],
   "source": [
    "k=1\n",
    "for i in range(7,44, 4):\n",
    "    if(k%2==0):\n",
    "        print((-1)*i)\n",
    "    else:\n",
    "        print(i)\n",
    "    k=k+1"
   ]
  },
  {
   "cell_type": "code",
   "execution_count": null,
   "id": "73b59577-368c-4c3d-807f-7142e461ba09",
   "metadata": {},
   "outputs": [],
   "source": []
  }
 ],
 "metadata": {
  "kernelspec": {
   "display_name": "Python 3 (ipykernel)",
   "language": "python",
   "name": "python3"
  },
  "language_info": {
   "codemirror_mode": {
    "name": "ipython",
    "version": 3
   },
   "file_extension": ".py",
   "mimetype": "text/x-python",
   "name": "python",
   "nbconvert_exporter": "python",
   "pygments_lexer": "ipython3",
   "version": "3.10.4"
  }
 },
 "nbformat": 4,
 "nbformat_minor": 5
}
