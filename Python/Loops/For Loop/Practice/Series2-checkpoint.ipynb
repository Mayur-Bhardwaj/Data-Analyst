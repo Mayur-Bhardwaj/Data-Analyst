{
 "cells": [
  {
   "cell_type": "markdown",
   "id": "3917c0c6-b26c-4bb5-93d6-401695bbe4ce",
   "metadata": {},
   "source": [
    "### Print the Series 5,6,8,11,15,20,..... till n term"
   ]
  },
  {
   "cell_type": "code",
   "execution_count": 1,
   "id": "6d8f85c7-5fb2-49f4-ba23-5c20c04b62ec",
   "metadata": {},
   "outputs": [
    {
     "name": "stdin",
     "output_type": "stream",
     "text": [
      "Please Enter the number to print the Series:  10\n"
     ]
    },
    {
     "name": "stdout",
     "output_type": "stream",
     "text": [
      "5 6 8 11 15 20 26 33 41 50 60 "
     ]
    }
   ],
   "source": [
    "num = int(input(\"Please Enter the number to print the Series: \"))\n",
    "a=5\n",
    "for i in range(num+1):\n",
    "    a=a+i\n",
    "    print(a, end=\" \")"
   ]
  },
  {
   "cell_type": "code",
   "execution_count": null,
   "id": "b5155394-1214-4604-9ef1-494f8f7386d5",
   "metadata": {},
   "outputs": [],
   "source": []
  }
 ],
 "metadata": {
  "kernelspec": {
   "display_name": "Python 3 (ipykernel)",
   "language": "python",
   "name": "python3"
  },
  "language_info": {
   "codemirror_mode": {
    "name": "ipython",
    "version": 3
   },
   "file_extension": ".py",
   "mimetype": "text/x-python",
   "name": "python",
   "nbconvert_exporter": "python",
   "pygments_lexer": "ipython3",
   "version": "3.10.4"
  }
 },
 "nbformat": 4,
 "nbformat_minor": 5
}
