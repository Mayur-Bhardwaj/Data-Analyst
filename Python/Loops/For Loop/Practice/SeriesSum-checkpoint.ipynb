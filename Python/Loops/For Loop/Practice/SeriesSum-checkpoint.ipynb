{
 "cells": [
  {
   "cell_type": "markdown",
   "id": "2fdcd452-2f43-4abf-a3e6-107fd33c0fd4",
   "metadata": {},
   "source": [
    "### Print the Sum of Series: 2,22,222,2222,22222,.... till n terms"
   ]
  },
  {
   "cell_type": "raw",
   "id": "e2687527-afb1-4bda-9eaa-92fab5b59c5d",
   "metadata": {},
   "source": [
    "2\n",
    "22   # 22 = 2*10+2\n",
    "222  # 222 = 22*10+2\n",
    "2222 # 2222 = 222*10+2\n",
    "\n",
    "# Logic --> nextTerm = (previousTerm*10+2)\n"
   ]
  },
  {
   "cell_type": "code",
   "execution_count": 1,
   "id": "cecbe963-62f1-4c61-beba-eb36cd2fcf4f",
   "metadata": {},
   "outputs": [
    {
     "name": "stdin",
     "output_type": "stream",
     "text": [
      "Please Enter the terms till which you want to print the series:  5\n"
     ]
    },
    {
     "name": "stdout",
     "output_type": "stream",
     "text": [
      "2\n",
      "22\n",
      "222\n",
      "2222\n",
      "22222\n"
     ]
    }
   ],
   "source": [
    "user_input = int(input(\"Please Enter the terms till which you want to print the series: \"))\n",
    "num = 2\n",
    "\n",
    "for i in range(user_input):\n",
    "    print(num)\n",
    "    num = num*10+2"
   ]
  },
  {
   "cell_type": "code",
   "execution_count": null,
   "id": "8e9d678d-2138-40a9-8042-a5d8a00d4271",
   "metadata": {},
   "outputs": [],
   "source": []
  }
 ],
 "metadata": {
  "kernelspec": {
   "display_name": "Python 3 (ipykernel)",
   "language": "python",
   "name": "python3"
  },
  "language_info": {
   "codemirror_mode": {
    "name": "ipython",
    "version": 3
   },
   "file_extension": ".py",
   "mimetype": "text/x-python",
   "name": "python",
   "nbconvert_exporter": "python",
   "pygments_lexer": "ipython3",
   "version": "3.10.4"
  }
 },
 "nbformat": 4,
 "nbformat_minor": 5
}
