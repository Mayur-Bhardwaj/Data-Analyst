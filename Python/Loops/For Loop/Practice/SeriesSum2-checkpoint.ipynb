{
 "cells": [
  {
   "cell_type": "markdown",
   "id": "69924bf0-e317-4894-8c87-4a5cd6cc0f7b",
   "metadata": {},
   "source": [
    "# Print the series 3,33,333,3333,33333,..... till n terms"
   ]
  },
  {
   "cell_type": "code",
   "execution_count": 1,
   "id": "112c81b1-eaaf-4a61-873b-371b4c9225c7",
   "metadata": {},
   "outputs": [
    {
     "name": "stdin",
     "output_type": "stream",
     "text": [
      "Please Enter the terms for ehich you want to print the series:  10\n"
     ]
    },
    {
     "name": "stdout",
     "output_type": "stream",
     "text": [
      "3\n",
      "33\n",
      "333\n",
      "3333\n",
      "33333\n",
      "333333\n",
      "3333333\n",
      "33333333\n",
      "333333333\n",
      "3333333333\n",
      "33333333333\n"
     ]
    }
   ],
   "source": [
    "user_input = int(input(\"Please Enter the terms for ehich you want to print the series: \"))\n",
    "\n",
    "a=3\n",
    "for i in range(user_input+1):\n",
    "    print(a)\n",
    "    a = (a*10)+3"
   ]
  },
  {
   "cell_type": "code",
   "execution_count": null,
   "id": "174f7a53-30fa-45fb-bccd-05161b16774a",
   "metadata": {},
   "outputs": [],
   "source": []
  }
 ],
 "metadata": {
  "kernelspec": {
   "display_name": "Python 3 (ipykernel)",
   "language": "python",
   "name": "python3"
  },
  "language_info": {
   "codemirror_mode": {
    "name": "ipython",
    "version": 3
   },
   "file_extension": ".py",
   "mimetype": "text/x-python",
   "name": "python",
   "nbconvert_exporter": "python",
   "pygments_lexer": "ipython3",
   "version": "3.10.4"
  }
 },
 "nbformat": 4,
 "nbformat_minor": 5
}
