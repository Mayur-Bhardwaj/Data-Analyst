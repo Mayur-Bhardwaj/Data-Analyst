{
 "cells": [
  {
   "cell_type": "markdown",
   "id": "d8f7e2d2-f5dd-48d3-8636-5659393a1798",
   "metadata": {},
   "source": [
    "### Print the Following Pattern:\n",
    "# 1\n",
    "# 1 2\n",
    "# 1 2 3\n",
    "# 1 2 3 4\n",
    "# 1 2 3 4 5\n"
   ]
  },
  {
   "cell_type": "code",
   "execution_count": 2,
   "id": "35dc2f43-dc89-427f-9d94-40f171156295",
   "metadata": {},
   "outputs": [],
   "source": [
    "#  1. How many lines to print.              {1 to 5}\n",
    "#  2. No. of elements in each line.         {increment of +1 and going to 1 to 5}\n",
    "#  3. Element of each line[relationship].   { +1 of previous element}\n",
    "\n"
   ]
  },
  {
   "cell_type": "code",
   "execution_count": 1,
   "id": "63fce62c-6cc4-4493-8a0c-3aa7c9ec3026",
   "metadata": {},
   "outputs": [],
   "source": [
    "# outer loop to control the number of lines to be printed.\n",
    "# inner loop to control printing of element in each line."
   ]
  },
  {
   "cell_type": "code",
   "execution_count": 14,
   "id": "1d51cc24-d5cc-4b7d-ae62-35849fbf6d77",
   "metadata": {},
   "outputs": [
    {
     "name": "stdout",
     "output_type": "stream",
     "text": [
      "1 \n",
      "1 2 \n",
      "1 2 3 \n",
      "1 2 3 4 \n",
      "1 2 3 4 5 \n"
     ]
    }
   ],
   "source": [
    "for i in range(1, 6):\n",
    "    for j in range(1, i+1):\n",
    "        print(j, end=\" \")\n",
    "    print()"
   ]
  },
  {
   "cell_type": "code",
   "execution_count": null,
   "id": "ff2bdbcb-0103-47a3-ac5f-b071d42d40a4",
   "metadata": {},
   "outputs": [],
   "source": []
  }
 ],
 "metadata": {
  "kernelspec": {
   "display_name": "Python 3 (ipykernel)",
   "language": "python",
   "name": "python3"
  },
  "language_info": {
   "codemirror_mode": {
    "name": "ipython",
    "version": 3
   },
   "file_extension": ".py",
   "mimetype": "text/x-python",
   "name": "python",
   "nbconvert_exporter": "python",
   "pygments_lexer": "ipython3",
   "version": "3.10.4"
  }
 },
 "nbformat": 4,
 "nbformat_minor": 5
}
